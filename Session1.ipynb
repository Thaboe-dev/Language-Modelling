{
 "cells": [
  {
   "cell_type": "markdown",
   "id": "fb9c004a",
   "metadata": {},
   "source": [
    "# Assignment 1\n",
    "\n",
    "# Name: Thabolezwe Mabandla\n",
    "# Regnum: R204443F"
   ]
  },
  {
   "cell_type": "code",
   "execution_count": null,
   "id": "e4bde93b",
   "metadata": {},
   "outputs": [],
   "source": []
  },
  {
   "cell_type": "code",
   "execution_count": null,
   "id": "a34a285a",
   "metadata": {},
   "outputs": [],
   "source": []
  },
  {
   "cell_type": "markdown",
   "id": "50dbbf97",
   "metadata": {},
   "source": [
    "# 1.Loading the text data"
   ]
  },
  {
   "cell_type": "code",
   "execution_count": 154,
   "id": "9f8bafbc",
   "metadata": {},
   "outputs": [],
   "source": [
    "def load_doc(filename):\n",
    "    #open the file\n",
    "    file = open(filename, 'rt',encoding='utf-8' )\n",
    "    #read the text\n",
    "    text = file.read()\n",
    "    #close the file\n",
    "    file.close()\n",
    "    return text"
   ]
  },
  {
   "cell_type": "code",
   "execution_count": 155,
   "id": "ca9005fb",
   "metadata": {},
   "outputs": [
    {
     "name": "stdout",
     "output_type": "stream",
     "text": [
      "One morning, when Gregor Samsa woke from troubled dreams, he found\n",
      "himself transformed in his bed into a horrible vermin.  He lay on\n",
      "his armour-like back, and if he lifted his head a little he could\n",
      "s\n"
     ]
    }
   ],
   "source": [
    "# load document(book)\n",
    "filename = r\"C:\\Users\\maban\\Desktop\\nlpdata.txt\"\n",
    "text = load_doc(filename)\n",
    "print(text[:200])"
   ]
  },
  {
   "cell_type": "code",
   "execution_count": null,
   "id": "b052189b",
   "metadata": {},
   "outputs": [],
   "source": []
  },
  {
   "cell_type": "markdown",
   "id": "6e5e35b5",
   "metadata": {},
   "source": [
    "# 2.Preprocessing"
   ]
  },
  {
   "cell_type": "code",
   "execution_count": 156,
   "id": "7cd477b0",
   "metadata": {},
   "outputs": [],
   "source": [
    "#imports\n",
    "import re\n",
    "import string\n",
    "from nltk.corpus import stopwords\n",
    "stop_words = stopwords.words( 'english' )"
   ]
  },
  {
   "cell_type": "code",
   "execution_count": 157,
   "id": "e7d502b5",
   "metadata": {},
   "outputs": [],
   "source": [
    "def preprocess(text):\n",
    "    # replace ' -- ' with a space ' '\n",
    "    text = text.replace( '--' , ' ' )\n",
    "    \n",
    "    \n",
    "    #Tokenization(Split by whitespace)\n",
    "    words = text.split()\n",
    "\n",
    "    #removing utf-8 encoding characters and other unnecessary chars\n",
    "    words = [re.sub(r'[\\x00-\\x08\\x0b\\x0c\\x0e-\\x1f\\x7f-\\xff\\xad\\x0c6§\\[\\]\\\\\\£\\Â\\n\\r]', ' ', word) for word in words]\n",
    "    words = [word for word in words if word.isalpha()]\n",
    "\n",
    "    #removing all numerical values(page numbers)\n",
    "    words = [re.sub(r'[0123456789]', ' ', word) for word in words]\n",
    "\n",
    "    #removing all punctuation\n",
    "    re_punc = re.compile( ' [%s] ' % re.escape(string.punctuation))\n",
    "    words = [re_punc.sub( '' , word) for word in words]\n",
    "\n",
    "    #removing Roman numerals\n",
    "    # first capitalized ones\n",
    "    words = [re.sub(r'\\s((I{2,}V*X*\\.*)|(IV\\.*)|(IX\\.*)|(V\\.*)|(V+I*\\.*)|(X+L*V*I*]\\.*))\\s', ' ', word) for word in words]\n",
    "    # then lowercase\n",
    "    words = [re.sub(r'\\s((i{2,}v*x*\\.*)|(iv\\.*)|(ix\\.*)|(v\\.*)|(v+i*\\.*)|(x+l*v*i*\\.*))\\s', ' ', word) for word in words]\n",
    "\n",
    "\n",
    "    #removing all strings of capital letters that are more than 2 characters long(Headings)\n",
    "    words = [re.sub(r'[A-Z]{2,}', ' ', word) for word in words]\n",
    "\n",
    "\n",
    "    #removing extra white spaces\n",
    "    clean_words = [re.sub(r'\\s+', ' ', word) for word in words]\n",
    "\n",
    "\n",
    "    #removing stopwords and converting all words to lower case\n",
    "    #words = [word.lower() for word in words]\n",
    "    #clean_words = [word for word in words if word not in stop_words]\n",
    "    \n",
    "    \n",
    "    #removing empty strings\n",
    "    for word in clean_words:\n",
    "        if((len(word)) == 1):\n",
    "            clean_words.remove(word)\n",
    "    \n",
    "    return clean_words"
   ]
  },
  {
   "cell_type": "code",
   "execution_count": 158,
   "id": "0ca8d0f6",
   "metadata": {},
   "outputs": [
    {
     "data": {
      "text/plain": [
       "['different',\n",
       " 'people',\n",
       " 'all',\n",
       " 'the',\n",
       " 'time',\n",
       " 'so',\n",
       " 'that',\n",
       " 'you',\n",
       " 'can',\n",
       " 'never',\n",
       " 'get',\n",
       " 'to',\n",
       " 'know',\n",
       " 'anyone',\n",
       " 'or',\n",
       " 'become',\n",
       " 'friendly',\n",
       " 'with',\n",
       " 'It',\n",
       " 'can']"
      ]
     },
     "execution_count": 158,
     "metadata": {},
     "output_type": "execute_result"
    }
   ],
   "source": [
    "corpus = preprocess(text)\n",
    "corpus[300:320]"
   ]
  },
  {
   "cell_type": "markdown",
   "id": "a23c4f40",
   "metadata": {},
   "source": [
    "# Word Embedding(GloVe)"
   ]
  },
  {
   "cell_type": "code",
   "execution_count": 159,
   "id": "eaecb4b8",
   "metadata": {},
   "outputs": [],
   "source": [
    "# prepare tokenizer\n",
    "from keras.preprocessing.text import Tokenizer\n",
    "from keras.preprocessing.sequence import pad_sequences\n",
    "\n",
    "t = Tokenizer(oov_token = \"<OOV>\",num_words=len(corpus))\n",
    "t.fit_on_texts(corpus)\n",
    "vocab_size = len(t.word_index) + 1\n",
    "# integer encode the documents\n",
    "encoded_docs = t.texts_to_sequences(corpus)\n",
    "\n",
    "# pad documents to a max length of 100 words\n",
    "max_length = 100\n",
    "padded_docs = pad_sequences(encoded_docs, maxlen = max_length, padding= 'post')\n",
    "#print(padded_docs[:2])\n",
    "word_index = t.word_index"
   ]
  },
  {
   "cell_type": "code",
   "execution_count": 160,
   "id": "67b20b03",
   "metadata": {},
   "outputs": [
    {
     "name": "stdout",
     "output_type": "stream",
     "text": [
      "Loaded 400000 word vectors.\n"
     ]
    }
   ],
   "source": [
    "#creating embedding dictionary\n",
    "import numpy as np\n",
    "embeddings_index = {}\n",
    "glove_file = r\"C:\\Users\\maban\\Documents\\Deep Learning\\glove.6B.100d.txt\"\n",
    "f = open(glove_file, encoding='utf-8')\n",
    "for line in f:\n",
    "    values = line.split()\n",
    "    word = values[0]\n",
    "    coefs = np.asarray(values[1:], dtype='float32')\n",
    "    embeddings_index[word] = coefs\n",
    "f.close()\n",
    "\n",
    "print('Loaded %s word vectors.' % len(embeddings_index))"
   ]
  },
  {
   "cell_type": "code",
   "execution_count": 161,
   "id": "ccc4554f",
   "metadata": {},
   "outputs": [
    {
     "name": "stdout",
     "output_type": "stream",
     "text": [
      "Converted 2243 words (7 misses)\n"
     ]
    }
   ],
   "source": [
    "# create a weight matrix for words in training docs\n",
    "num_tokens = len(word_index)\n",
    "embedding_dim = 100\n",
    "hits = 0\n",
    "misses = 0\n",
    "embedding_matrix = np.zeros((num_tokens+1, embedding_dim))\n",
    "for word, i in word_index.items():\n",
    "    embedding_vector = embeddings_index.get(word)\n",
    "    if embedding_vector is not None:\n",
    "        # words not found in embedding index will be all-zeros.\n",
    "        embedding_matrix[i] = embedding_vector\n",
    "        hits += 1\n",
    "    else:\n",
    "        misses += 1\n",
    "        \n",
    "print(\"Converted %d words (%d misses)\" % (hits, misses))"
   ]
  },
  {
   "cell_type": "markdown",
   "id": "20f7c7c4",
   "metadata": {},
   "source": [
    "# 3.Splitting the data"
   ]
  },
  {
   "cell_type": "code",
   "execution_count": 162,
   "id": "1e157ddf",
   "metadata": {},
   "outputs": [
    {
     "name": "stdout",
     "output_type": "stream",
     "text": [
      " Total Tokens: 18935 \n",
      " Unique Tokens: 2345 \n"
     ]
    }
   ],
   "source": [
    "print( ' Total Tokens: %d ' % len(corpus))\n",
    "print( ' Unique Tokens: %d ' % len(set(corpus)))\n"
   ]
  },
  {
   "cell_type": "code",
   "execution_count": 163,
   "id": "7f8b6851",
   "metadata": {},
   "outputs": [],
   "source": [
    "#function to save tokens to file, one dialog per line\n",
    "def save_doc(lines, filename):\n",
    "    data = '\\n' .join(lines)\n",
    "    file = open(filename, 'w' )\n",
    "    file.write(data)\n",
    "    file.close()"
   ]
  },
  {
   "cell_type": "code",
   "execution_count": 164,
   "id": "9c00a528",
   "metadata": {},
   "outputs": [
    {
     "name": "stdout",
     "output_type": "stream",
     "text": [
      " Total Sequences: 18929 \n"
     ]
    }
   ],
   "source": [
    "#making lines of text\n",
    "length = 5 + 1\n",
    "sequences = list()\n",
    "for i in range(length, len(corpus)):\n",
    "# select sequence of tokens\n",
    "    seq = corpus[i-length:i]\n",
    "# convert into a line\n",
    "    line = ' ' .join(seq)\n",
    "# store\n",
    "    sequences.append(line)\n",
    "print( ' Total Sequences: %d ' % len(sequences))\n",
    "# save sequences to file\n",
    "out_filename = 'organized_sequences.txt'\n",
    "save_doc(sequences, out_filename)"
   ]
  },
  {
   "cell_type": "code",
   "execution_count": 165,
   "id": "f2094834",
   "metadata": {},
   "outputs": [
    {
     "data": {
      "text/plain": [
       "'One when Gregor Samsa woke from'"
      ]
     },
     "execution_count": 165,
     "metadata": {},
     "output_type": "execute_result"
    }
   ],
   "source": [
    "sequences[0]"
   ]
  },
  {
   "cell_type": "code",
   "execution_count": 166,
   "id": "bf61ff44",
   "metadata": {},
   "outputs": [],
   "source": [
    "def load(filename):\n",
    "    #open the file\n",
    "    file = open(filename, 'rt')\n",
    "    #read the text\n",
    "    text = file.read()\n",
    "    #close the file\n",
    "    file.close()\n",
    "    return text"
   ]
  },
  {
   "cell_type": "code",
   "execution_count": 167,
   "id": "dfc378c0",
   "metadata": {},
   "outputs": [],
   "source": [
    "# load\n",
    "in_filename = 'organized_sequences.txt'\n",
    "doc = load(in_filename)\n",
    "lines = doc.split( '\\n' )\n",
    "\n",
    "# integer encode sequences of words\n",
    "tokenizer = Tokenizer()\n",
    "tokenizer.fit_on_texts(lines)\n",
    "sequences = tokenizer.texts_to_sequences(lines)\n",
    "padded_sequences = pad_sequences(sequences)\n",
    "\n",
    "# vocabulary size\n",
    "vocab_size = len(tokenizer.word_index) + 2"
   ]
  },
  {
   "cell_type": "markdown",
   "id": "73f6765f",
   "metadata": {},
   "source": [
    "# Separating sequences into Input and Output(X and Y)\n"
   ]
  },
  {
   "cell_type": "code",
   "execution_count": 168,
   "id": "a893e7c1",
   "metadata": {},
   "outputs": [],
   "source": [
    "from tensorflow.keras.utils import to_categorical\n",
    "\n",
    "# separate into input and output\n",
    "sequences = np.asarray(padded_sequences)\n",
    "X, y = sequences[:,:-1], sequences[:,-1]\n",
    "#one hot encoding the output word\n",
    "y = to_categorical(y, num_classes=vocab_size)\n",
    "seq_length = X.shape[1]\n"
   ]
  },
  {
   "cell_type": "code",
   "execution_count": 169,
   "id": "33904859",
   "metadata": {},
   "outputs": [
    {
     "data": {
      "text/plain": [
       "array([[  57,   46,   19,  119, 1070],\n",
       "       [  46,   19,  119, 1070,   25],\n",
       "       [  19,  119, 1070,   25, 1071],\n",
       "       [ 119, 1070,   25, 1071,    4],\n",
       "       [1070,   25, 1071,    4,  205]])"
      ]
     },
     "execution_count": 169,
     "metadata": {},
     "output_type": "execute_result"
    }
   ],
   "source": [
    "X[:5]"
   ]
  },
  {
   "cell_type": "code",
   "execution_count": 170,
   "id": "f6a95588",
   "metadata": {},
   "outputs": [
    {
     "data": {
      "text/plain": [
       "5"
      ]
     },
     "execution_count": 170,
     "metadata": {},
     "output_type": "execute_result"
    }
   ],
   "source": [
    "seq_length"
   ]
  },
  {
   "cell_type": "markdown",
   "id": "b0977573",
   "metadata": {},
   "source": [
    "# 4.Creating a Deep LSTM"
   ]
  },
  {
   "cell_type": "code",
   "execution_count": 171,
   "id": "239cb657",
   "metadata": {},
   "outputs": [],
   "source": [
    "#Defining the Model\n",
    "from keras.models import Sequential\n",
    "from keras.layers import Dense\n",
    "from keras.layers import LSTM,Dropout\n",
    "from keras.layers import Embedding\n",
    "from keras.initializers import Constant\n",
    "from keras.utils.vis_utils import plot_model\n",
    "\n",
    "\n",
    "\n",
    "def define_model(vocab_size, seq_length):\n",
    "    model = Sequential()\n",
    "    model.add(Embedding(vocab_size,100,embeddings_initializer=Constant(embedding_matrix)\n",
    "                        ,input_length=seq_length,trainable=False))\n",
    "    model.add(LSTM(100, return_sequences=True))\n",
    "    model.add(LSTM(100))\n",
    "    model.add(Dropout(0.1))\n",
    "    model.add(Dense(100, activation= 'relu'))\n",
    "    model.add(Dense(vocab_size, activation= 'softmax' ))\n",
    "    model.compile(loss= 'categorical_crossentropy' , optimizer= 'adam' , metrics=[ 'accuracy' ])\n",
    "    model.summary()\n",
    "    return model\n"
   ]
  },
  {
   "cell_type": "code",
   "execution_count": 172,
   "id": "2e081736",
   "metadata": {},
   "outputs": [
    {
     "name": "stdout",
     "output_type": "stream",
     "text": [
      "Model: \"sequential_8\"\n",
      "_________________________________________________________________\n",
      " Layer (type)                Output Shape              Param #   \n",
      "=================================================================\n",
      " embedding_8 (Embedding)     (None, 5, 100)            225100    \n",
      "                                                                 \n",
      " lstm_8 (LSTM)               (None, 5, 100)            80400     \n",
      "                                                                 \n",
      " lstm_9 (LSTM)               (None, 100)               80400     \n",
      "                                                                 \n",
      " dropout_4 (Dropout)         (None, 100)               0         \n",
      "                                                                 \n",
      " dense_8 (Dense)             (None, 100)               10100     \n",
      "                                                                 \n",
      " dense_9 (Dense)             (None, 2251)              227351    \n",
      "                                                                 \n",
      "=================================================================\n",
      "Total params: 623,351\n",
      "Trainable params: 398,251\n",
      "Non-trainable params: 225,100\n",
      "_________________________________________________________________\n"
     ]
    }
   ],
   "source": [
    "model = define_model(vocab_size=vocab_size,seq_length=seq_length)"
   ]
  },
  {
   "cell_type": "markdown",
   "id": "3ff5ca26",
   "metadata": {},
   "source": [
    "# 5.Training the model"
   ]
  },
  {
   "cell_type": "code",
   "execution_count": 173,
   "id": "dc016a6b",
   "metadata": {},
   "outputs": [
    {
     "name": "stdout",
     "output_type": "stream",
     "text": [
      "Epoch 1/100\n",
      "158/158 [==============================] - 6s 22ms/step - loss: 6.1677 - accuracy: 0.0588\n",
      "Epoch 2/100\n",
      "158/158 [==============================] - 3s 22ms/step - loss: 5.8545 - accuracy: 0.0605\n",
      "Epoch 3/100\n",
      "158/158 [==============================] - 3s 22ms/step - loss: 5.8283 - accuracy: 0.0605\n",
      "Epoch 4/100\n",
      "158/158 [==============================] - 4s 25ms/step - loss: 5.8109 - accuracy: 0.0615\n",
      "Epoch 5/100\n",
      "158/158 [==============================] - 4s 23ms/step - loss: 5.7679 - accuracy: 0.0673\n",
      "Epoch 6/100\n",
      "158/158 [==============================] - 3s 22ms/step - loss: 5.6888 - accuracy: 0.0722\n",
      "Epoch 7/100\n",
      "158/158 [==============================] - 4s 22ms/step - loss: 5.6129 - accuracy: 0.0780\n",
      "Epoch 8/100\n",
      "158/158 [==============================] - 4s 22ms/step - loss: 5.5215 - accuracy: 0.0848\n",
      "Epoch 9/100\n",
      "158/158 [==============================] - 3s 22ms/step - loss: 5.4286 - accuracy: 0.0920\n",
      "Epoch 10/100\n",
      "158/158 [==============================] - 3s 22ms/step - loss: 5.3408 - accuracy: 0.0993\n",
      "Epoch 11/100\n",
      "158/158 [==============================] - 3s 22ms/step - loss: 5.2529 - accuracy: 0.1041\n",
      "Epoch 12/100\n",
      "158/158 [==============================] - 3s 22ms/step - loss: 5.1811 - accuracy: 0.1079\n",
      "Epoch 13/100\n",
      "158/158 [==============================] - 3s 22ms/step - loss: 5.1144 - accuracy: 0.1132\n",
      "Epoch 14/100\n",
      "158/158 [==============================] - 3s 22ms/step - loss: 5.0506 - accuracy: 0.1152\n",
      "Epoch 15/100\n",
      "158/158 [==============================] - 3s 22ms/step - loss: 4.9870 - accuracy: 0.1191\n",
      "Epoch 16/100\n",
      "158/158 [==============================] - 3s 22ms/step - loss: 4.9338 - accuracy: 0.1191\n",
      "Epoch 17/100\n",
      "158/158 [==============================] - 3s 22ms/step - loss: 4.8767 - accuracy: 0.1201\n",
      "Epoch 18/100\n",
      "158/158 [==============================] - 3s 22ms/step - loss: 4.8190 - accuracy: 0.1252\n",
      "Epoch 19/100\n",
      "158/158 [==============================] - 3s 22ms/step - loss: 4.7657 - accuracy: 0.1249\n",
      "Epoch 20/100\n",
      "158/158 [==============================] - 3s 22ms/step - loss: 4.7098 - accuracy: 0.1298\n",
      "Epoch 21/100\n",
      "158/158 [==============================] - 3s 22ms/step - loss: 4.6484 - accuracy: 0.1297\n",
      "Epoch 22/100\n",
      "158/158 [==============================] - 3s 22ms/step - loss: 4.5933 - accuracy: 0.1344\n",
      "Epoch 23/100\n",
      "158/158 [==============================] - 3s 22ms/step - loss: 4.5396 - accuracy: 0.1376\n",
      "Epoch 24/100\n",
      "158/158 [==============================] - 3s 22ms/step - loss: 4.4775 - accuracy: 0.1388\n",
      "Epoch 25/100\n",
      "158/158 [==============================] - 3s 22ms/step - loss: 4.4187 - accuracy: 0.1417\n",
      "Epoch 26/100\n",
      "158/158 [==============================] - 3s 22ms/step - loss: 4.3532 - accuracy: 0.1441\n",
      "Epoch 27/100\n",
      "158/158 [==============================] - 3s 22ms/step - loss: 4.2858 - accuracy: 0.1492\n",
      "Epoch 28/100\n",
      "158/158 [==============================] - 4s 22ms/step - loss: 4.2275 - accuracy: 0.1508\n",
      "Epoch 29/100\n",
      "158/158 [==============================] - 3s 22ms/step - loss: 4.1648 - accuracy: 0.1573\n",
      "Epoch 30/100\n",
      "158/158 [==============================] - 3s 22ms/step - loss: 4.0945 - accuracy: 0.1576\n",
      "Epoch 31/100\n",
      "158/158 [==============================] - 3s 22ms/step - loss: 4.0330 - accuracy: 0.1630\n",
      "Epoch 32/100\n",
      "158/158 [==============================] - 3s 22ms/step - loss: 3.9634 - accuracy: 0.1660\n",
      "Epoch 33/100\n",
      "158/158 [==============================] - 3s 22ms/step - loss: 3.8875 - accuracy: 0.1757\n",
      "Epoch 34/100\n",
      "158/158 [==============================] - 3s 22ms/step - loss: 3.8404 - accuracy: 0.1812\n",
      "Epoch 35/100\n",
      "158/158 [==============================] - 3s 22ms/step - loss: 3.7566 - accuracy: 0.1917\n",
      "Epoch 36/100\n",
      "158/158 [==============================] - 3s 22ms/step - loss: 3.6927 - accuracy: 0.1984\n",
      "Epoch 37/100\n",
      "158/158 [==============================] - 3s 22ms/step - loss: 3.6302 - accuracy: 0.2046\n",
      "Epoch 38/100\n",
      "158/158 [==============================] - 3s 22ms/step - loss: 3.5657 - accuracy: 0.2127\n",
      "Epoch 39/100\n",
      "158/158 [==============================] - 3s 22ms/step - loss: 3.4898 - accuracy: 0.2263\n",
      "Epoch 40/100\n",
      "158/158 [==============================] - 3s 22ms/step - loss: 3.4357 - accuracy: 0.2319\n",
      "Epoch 41/100\n",
      "158/158 [==============================] - 3s 22ms/step - loss: 3.3731 - accuracy: 0.2402\n",
      "Epoch 42/100\n",
      "158/158 [==============================] - 3s 22ms/step - loss: 3.3160 - accuracy: 0.2487\n",
      "Epoch 43/100\n",
      "158/158 [==============================] - 3s 22ms/step - loss: 3.2571 - accuracy: 0.2613\n",
      "Epoch 44/100\n",
      "158/158 [==============================] - 3s 22ms/step - loss: 3.1814 - accuracy: 0.2678\n",
      "Epoch 45/100\n",
      "158/158 [==============================] - 3s 22ms/step - loss: 3.1324 - accuracy: 0.2769\n",
      "Epoch 46/100\n",
      "158/158 [==============================] - 3s 22ms/step - loss: 3.0750 - accuracy: 0.2884\n",
      "Epoch 47/100\n",
      "158/158 [==============================] - 3s 22ms/step - loss: 3.0182 - accuracy: 0.2967\n",
      "Epoch 48/100\n",
      "158/158 [==============================] - 3s 22ms/step - loss: 2.9534 - accuracy: 0.3083\n",
      "Epoch 49/100\n",
      "158/158 [==============================] - 3s 22ms/step - loss: 2.9123 - accuracy: 0.3134\n",
      "Epoch 50/100\n",
      "158/158 [==============================] - 3s 22ms/step - loss: 2.8632 - accuracy: 0.3220\n",
      "Epoch 51/100\n",
      "158/158 [==============================] - 3s 22ms/step - loss: 2.8036 - accuracy: 0.3286\n",
      "Epoch 52/100\n",
      "158/158 [==============================] - 3s 22ms/step - loss: 2.7557 - accuracy: 0.3411\n",
      "Epoch 53/100\n",
      "158/158 [==============================] - 3s 22ms/step - loss: 2.6981 - accuracy: 0.3479\n",
      "Epoch 54/100\n",
      "158/158 [==============================] - 3s 22ms/step - loss: 2.6651 - accuracy: 0.3521\n",
      "Epoch 55/100\n",
      "158/158 [==============================] - 3s 22ms/step - loss: 2.6029 - accuracy: 0.3652\n",
      "Epoch 56/100\n",
      "158/158 [==============================] - 3s 22ms/step - loss: 2.5585 - accuracy: 0.3741\n",
      "Epoch 57/100\n",
      "158/158 [==============================] - 3s 22ms/step - loss: 2.5183 - accuracy: 0.3795\n",
      "Epoch 58/100\n",
      "158/158 [==============================] - 3s 22ms/step - loss: 2.4626 - accuracy: 0.3947\n",
      "Epoch 59/100\n",
      "158/158 [==============================] - 3s 22ms/step - loss: 2.4218 - accuracy: 0.4004\n",
      "Epoch 60/100\n",
      "158/158 [==============================] - 3s 21ms/step - loss: 2.3913 - accuracy: 0.4044\n",
      "Epoch 61/100\n",
      "158/158 [==============================] - 3s 22ms/step - loss: 2.3328 - accuracy: 0.4146\n",
      "Epoch 62/100\n",
      "158/158 [==============================] - 3s 22ms/step - loss: 2.3021 - accuracy: 0.4230\n",
      "Epoch 63/100\n",
      "158/158 [==============================] - 3s 22ms/step - loss: 2.2512 - accuracy: 0.4357\n",
      "Epoch 64/100\n",
      "158/158 [==============================] - 3s 22ms/step - loss: 2.2151 - accuracy: 0.4396\n",
      "Epoch 65/100\n",
      "158/158 [==============================] - 3s 22ms/step - loss: 2.1725 - accuracy: 0.4488\n",
      "Epoch 66/100\n",
      "158/158 [==============================] - 3s 22ms/step - loss: 2.1386 - accuracy: 0.4551\n",
      "Epoch 67/100\n",
      "158/158 [==============================] - 3s 22ms/step - loss: 2.0957 - accuracy: 0.4651\n",
      "Epoch 68/100\n",
      "158/158 [==============================] - 3s 22ms/step - loss: 2.0470 - accuracy: 0.4744\n",
      "Epoch 69/100\n",
      "158/158 [==============================] - 3s 22ms/step - loss: 2.0142 - accuracy: 0.4765\n",
      "Epoch 70/100\n",
      "158/158 [==============================] - 3s 22ms/step - loss: 1.9679 - accuracy: 0.4939\n",
      "Epoch 71/100\n",
      "158/158 [==============================] - 3s 22ms/step - loss: 1.9518 - accuracy: 0.4948\n",
      "Epoch 72/100\n",
      "158/158 [==============================] - 3s 22ms/step - loss: 1.9158 - accuracy: 0.5011\n",
      "Epoch 73/100\n",
      "158/158 [==============================] - 3s 22ms/step - loss: 1.8744 - accuracy: 0.5149\n",
      "Epoch 74/100\n",
      "158/158 [==============================] - 3s 22ms/step - loss: 1.8397 - accuracy: 0.5145\n",
      "Epoch 75/100\n",
      "158/158 [==============================] - 3s 22ms/step - loss: 1.8070 - accuracy: 0.5254\n",
      "Epoch 76/100\n",
      "158/158 [==============================] - 3s 22ms/step - loss: 1.7825 - accuracy: 0.5317\n",
      "Epoch 77/100\n",
      "158/158 [==============================] - 4s 22ms/step - loss: 1.7477 - accuracy: 0.5407\n",
      "Epoch 78/100\n",
      "158/158 [==============================] - 3s 22ms/step - loss: 1.7166 - accuracy: 0.5446\n",
      "Epoch 79/100\n",
      "158/158 [==============================] - 3s 22ms/step - loss: 1.6822 - accuracy: 0.5531\n",
      "Epoch 80/100\n"
     ]
    },
    {
     "name": "stdout",
     "output_type": "stream",
     "text": [
      "158/158 [==============================] - 3s 22ms/step - loss: 1.6564 - accuracy: 0.5586\n",
      "Epoch 81/100\n",
      "158/158 [==============================] - 3s 22ms/step - loss: 1.6198 - accuracy: 0.5671\n",
      "Epoch 82/100\n",
      "158/158 [==============================] - 3s 22ms/step - loss: 1.5838 - accuracy: 0.5819\n",
      "Epoch 83/100\n",
      "158/158 [==============================] - 3s 22ms/step - loss: 1.5708 - accuracy: 0.5791\n",
      "Epoch 84/100\n",
      "158/158 [==============================] - 3s 22ms/step - loss: 1.5431 - accuracy: 0.5876\n",
      "Epoch 85/100\n",
      "158/158 [==============================] - 3s 22ms/step - loss: 1.5028 - accuracy: 0.5982\n",
      "Epoch 86/100\n",
      "158/158 [==============================] - 3s 22ms/step - loss: 1.4854 - accuracy: 0.5977\n",
      "Epoch 87/100\n",
      "158/158 [==============================] - 3s 22ms/step - loss: 1.4567 - accuracy: 0.6095\n",
      "Epoch 88/100\n",
      "158/158 [==============================] - 3s 22ms/step - loss: 1.4247 - accuracy: 0.6118\n",
      "Epoch 89/100\n",
      "158/158 [==============================] - 3s 22ms/step - loss: 1.3924 - accuracy: 0.6213\n",
      "Epoch 90/100\n",
      "158/158 [==============================] - 3s 22ms/step - loss: 1.3761 - accuracy: 0.6255\n",
      "Epoch 91/100\n",
      "158/158 [==============================] - 3s 22ms/step - loss: 1.3618 - accuracy: 0.6295\n",
      "Epoch 92/100\n",
      "158/158 [==============================] - 3s 22ms/step - loss: 1.3345 - accuracy: 0.6364\n",
      "Epoch 93/100\n",
      "158/158 [==============================] - 3s 22ms/step - loss: 1.2920 - accuracy: 0.6474\n",
      "Epoch 94/100\n",
      "158/158 [==============================] - 3s 22ms/step - loss: 1.2783 - accuracy: 0.6499\n",
      "Epoch 95/100\n",
      "158/158 [==============================] - 3s 22ms/step - loss: 1.2543 - accuracy: 0.6562\n",
      "Epoch 96/100\n",
      "158/158 [==============================] - 3s 22ms/step - loss: 1.2373 - accuracy: 0.6577\n",
      "Epoch 97/100\n",
      "158/158 [==============================] - 3s 21ms/step - loss: 1.2073 - accuracy: 0.6644\n",
      "Epoch 98/100\n",
      "158/158 [==============================] - 3s 22ms/step - loss: 1.2076 - accuracy: 0.6660\n",
      "Epoch 99/100\n",
      "158/158 [==============================] - 4s 25ms/step - loss: 1.1707 - accuracy: 0.6763\n",
      "Epoch 100/100\n",
      "158/158 [==============================] - 4s 24ms/step - loss: 1.1409 - accuracy: 0.6846\n"
     ]
    }
   ],
   "source": [
    "#First Training\n",
    "num_epochs = 100\n",
    "\n",
    "history1 = model.fit(X,y,epochs=num_epochs,batch_size=120)"
   ]
  },
  {
   "cell_type": "markdown",
   "id": "cba39571",
   "metadata": {},
   "source": [
    "# 6.Evaluating Model Perfomance"
   ]
  },
  {
   "cell_type": "code",
   "execution_count": 174,
   "id": "2af5243d",
   "metadata": {},
   "outputs": [],
   "source": [
    "import matplotlib.pyplot as plt\n",
    "\n",
    "\n",
    "def plot_graph(model,string):\n",
    "    plt.plot(model.history[string])\n",
    "    plt.xlabel(\"Epochs\")\n",
    "    plt.ylabel(string)\n",
    "    plt.show()"
   ]
  },
  {
   "cell_type": "code",
   "execution_count": 175,
   "id": "009c3ac3",
   "metadata": {},
   "outputs": [
    {
     "data": {
      "image/png": "[encoded data removed]",
      "text/plain": [
       "<Figure size 432x288 with 1 Axes>"
      ]
     },
     "metadata": {
      "needs_background": "light"
     },
     "output_type": "display_data"
    }
   ],
   "source": [
    "plot_graph(model=history1, string=\"accuracy\")"
   ]
  },
  {
   "cell_type": "markdown",
   "id": "eb1ace2a",
   "metadata": {},
   "source": [
    "# Optimizing the model"
   ]
  },
  {
   "cell_type": "code",
   "execution_count": 177,
   "id": "32c856b7",
   "metadata": {},
   "outputs": [
    {
     "name": "stdout",
     "output_type": "stream",
     "text": [
      "Epoch 1/300\n",
      "148/148 [==============================] - 3s 23ms/step - loss: 0.2216 - accuracy: 0.9308\n",
      "Epoch 2/300\n",
      "148/148 [==============================] - 3s 23ms/step - loss: 0.2233 - accuracy: 0.9307\n",
      "Epoch 3/300\n",
      "148/148 [==============================] - 3s 23ms/step - loss: 0.2281 - accuracy: 0.9276\n",
      "Epoch 4/300\n",
      "148/148 [==============================] - 3s 23ms/step - loss: 0.2249 - accuracy: 0.9301\n",
      "Epoch 5/300\n",
      "148/148 [==============================] - 3s 23ms/step - loss: 0.2247 - accuracy: 0.9305\n",
      "Epoch 6/300\n",
      "148/148 [==============================] - 3s 23ms/step - loss: 0.2207 - accuracy: 0.9332\n",
      "Epoch 7/300\n",
      "148/148 [==============================] - 3s 23ms/step - loss: 0.2158 - accuracy: 0.9338\n",
      "Epoch 8/300\n",
      "148/148 [==============================] - 3s 23ms/step - loss: 0.2136 - accuracy: 0.9332\n",
      "Epoch 9/300\n",
      "148/148 [==============================] - 3s 23ms/step - loss: 0.2135 - accuracy: 0.9340\n",
      "Epoch 10/300\n",
      "148/148 [==============================] - 3s 23ms/step - loss: 0.2269 - accuracy: 0.9298\n",
      "Epoch 11/300\n",
      "148/148 [==============================] - 3s 23ms/step - loss: 0.2079 - accuracy: 0.9341\n",
      "Epoch 12/300\n",
      "148/148 [==============================] - 3s 23ms/step - loss: 0.2142 - accuracy: 0.9319\n",
      "Epoch 13/300\n",
      "148/148 [==============================] - 3s 23ms/step - loss: 0.2104 - accuracy: 0.9350\n",
      "Epoch 14/300\n",
      "148/148 [==============================] - 3s 23ms/step - loss: 0.2107 - accuracy: 0.9336\n",
      "Epoch 15/300\n",
      "148/148 [==============================] - 3s 23ms/step - loss: 0.2183 - accuracy: 0.9324\n",
      "Epoch 16/300\n",
      "148/148 [==============================] - 3s 23ms/step - loss: 0.2063 - accuracy: 0.9368\n",
      "Epoch 17/300\n",
      "148/148 [==============================] - 3s 23ms/step - loss: 0.2213 - accuracy: 0.9299\n",
      "Epoch 18/300\n",
      "148/148 [==============================] - 3s 23ms/step - loss: 0.2023 - accuracy: 0.9390\n",
      "Epoch 19/300\n",
      "148/148 [==============================] - 3s 23ms/step - loss: 0.1983 - accuracy: 0.9396\n",
      "Epoch 20/300\n",
      "148/148 [==============================] - 3s 23ms/step - loss: 0.2107 - accuracy: 0.9350\n",
      "Epoch 21/300\n",
      "148/148 [==============================] - 4s 24ms/step - loss: 0.2127 - accuracy: 0.9371\n",
      "Epoch 22/300\n",
      "148/148 [==============================] - 3s 23ms/step - loss: 0.1872 - accuracy: 0.9408\n",
      "Epoch 23/300\n",
      "148/148 [==============================] - 3s 23ms/step - loss: 0.2022 - accuracy: 0.9375\n",
      "Epoch 24/300\n",
      "148/148 [==============================] - 3s 23ms/step - loss: 0.2113 - accuracy: 0.9334\n",
      "Epoch 25/300\n",
      "148/148 [==============================] - 4s 24ms/step - loss: 0.2106 - accuracy: 0.9348\n",
      "Epoch 26/300\n",
      "148/148 [==============================] - 3s 23ms/step - loss: 0.1972 - accuracy: 0.9398\n",
      "Epoch 27/300\n",
      "148/148 [==============================] - 3s 23ms/step - loss: 0.1937 - accuracy: 0.9405\n",
      "Epoch 28/300\n",
      "148/148 [==============================] - 3s 23ms/step - loss: 0.1978 - accuracy: 0.9378\n",
      "Epoch 29/300\n",
      "148/148 [==============================] - 3s 23ms/step - loss: 0.2016 - accuracy: 0.9361\n",
      "Epoch 30/300\n",
      "148/148 [==============================] - 3s 23ms/step - loss: 0.1997 - accuracy: 0.9407\n",
      "Epoch 31/300\n",
      "148/148 [==============================] - 3s 23ms/step - loss: 0.1928 - accuracy: 0.9399\n",
      "Epoch 32/300\n",
      "148/148 [==============================] - 3s 23ms/step - loss: 0.1900 - accuracy: 0.9403\n",
      "Epoch 33/300\n",
      "148/148 [==============================] - 3s 23ms/step - loss: 0.1905 - accuracy: 0.9419\n",
      "Epoch 34/300\n",
      "148/148 [==============================] - 3s 23ms/step - loss: 0.1913 - accuracy: 0.9398\n",
      "Epoch 35/300\n",
      "148/148 [==============================] - 3s 23ms/step - loss: 0.1976 - accuracy: 0.9379\n",
      "Epoch 36/300\n",
      "148/148 [==============================] - 3s 23ms/step - loss: 0.2055 - accuracy: 0.9346\n",
      "Epoch 37/300\n",
      "148/148 [==============================] - 3s 23ms/step - loss: 0.2024 - accuracy: 0.9390\n",
      "Epoch 00037: early stopping\n"
     ]
    }
   ],
   "source": [
    "from keras.callbacks import EarlyStopping\n",
    "\n",
    "#increasing epochs\n",
    "num_epochs = 300\n",
    "#to avoid overfitting\n",
    "callback = EarlyStopping(monitor='loss',verbose=1,patience=15)\n",
    "\n",
    "history2 = model.fit(X,y,epochs=num_epochs,batch_size=128,callbacks=callback)"
   ]
  },
  {
   "cell_type": "code",
   "execution_count": 178,
   "id": "81866664",
   "metadata": {},
   "outputs": [
    {
     "data": {
      "image/png": "[encoded data removed]",
      "text/plain": [
       "<Figure size 432x288 with 1 Axes>"
      ]
     },
     "metadata": {
      "needs_background": "light"
     },
     "output_type": "display_data"
    }
   ],
   "source": [
    "plot_graph(model=history2,string=\"loss\")"
   ]
  },
  {
   "cell_type": "markdown",
   "id": "65b7db4c",
   "metadata": {},
   "source": [
    "# Predictions"
   ]
  },
  {
   "cell_type": "code",
   "execution_count": 254,
   "id": "9b503300",
   "metadata": {},
   "outputs": [],
   "source": [
    "# generate a sequence from a language model\n",
    "def generate_seq(model, tokenizer, seq_length, seed_text, n_words):\n",
    "        result = list()\n",
    "        in_text = seed_text\n",
    "        # generate a fixed number of words\n",
    "        for _ in range(n_words):\n",
    "                # encode the text as integer\n",
    "                encoded = tokenizer.texts_to_sequences([in_text])[0]\n",
    "                # truncate sequences to a fixed length\n",
    "                encoded = pad_sequences([encoded], maxlen=seq_length, truncating= 'pre' )\n",
    "                # predict probabilities for each word\n",
    "                #yhat = np.round(model.predict(encoded, verbose=0)).astype(int)\n",
    "                yhat = np.argmax(model.predict(encoded, verbose=0),axis=1)\n",
    "                # map predicted word index to word\n",
    "                out_word = ''\n",
    "                for word, index in tokenizer.word_index.items():\n",
    "                        if index == yhat:\n",
    "                                out_word = word\n",
    "                                break\n",
    "                # append to input\n",
    "                in_text += ' ' + out_word\n",
    "                result.append(in_text)\n",
    "        return ' ' .join(result)"
   ]
  },
  {
   "cell_type": "code",
   "execution_count": 255,
   "id": "905ccdc4",
   "metadata": {},
   "outputs": [
    {
     "name": "stdout",
     "output_type": "stream",
     "text": [
      "Alice opened the door and \n",
      " \n"
     ]
    }
   ],
   "source": [
    "seed_text = \"Alice opened the door and\"\n",
    "print(seed_text + ' \\n ' )"
   ]
  },
  {
   "cell_type": "code",
   "execution_count": 256,
   "id": "f1fdb829",
   "metadata": {},
   "outputs": [],
   "source": [
    "result = generate_seq(model=model,tokenizer=tokenizer,seq_length=seq_length,seed_text=seed_text,n_words=1)"
   ]
  },
  {
   "cell_type": "code",
   "execution_count": 257,
   "id": "22dd97f9",
   "metadata": {},
   "outputs": [
    {
     "data": {
      "text/plain": [
       "'Alice opened the door and took'"
      ]
     },
     "execution_count": 257,
     "metadata": {},
     "output_type": "execute_result"
    }
   ],
   "source": [
    "result"
   ]
  },
  {
   "cell_type": "markdown",
   "id": "150bfd45",
   "metadata": {},
   "source": [
    "# Saving the Model and Tokenizer"
   ]
  },
  {
   "cell_type": "code",
   "execution_count": 212,
   "id": "0709e9de",
   "metadata": {},
   "outputs": [],
   "source": [
    "from pickle import dump\n",
    "# save the model to file\n",
    "model.save( 'model.h5' )\n",
    "# save the tokenizer\n",
    "dump(tokenizer, open( 'tokenizer.pkl' , 'wb' ))"
   ]
  },
  {
   "cell_type": "markdown",
   "id": "e4002095",
   "metadata": {},
   "source": [
    "# 7.Hosting on Streamlit"
   ]
  },
  {
   "cell_type": "code",
   "execution_count": 218,
   "id": "861346f0",
   "metadata": {},
   "outputs": [
    {
     "name": "stdout",
     "output_type": "stream",
     "text": [
      "^C\n"
     ]
    }
   ],
   "source": [
    "!streamlit run TextGenerator.py"
   ]
  },
  {
   "cell_type": "code",
   "execution_count": null,
   "id": "a42c6a6a",
   "metadata": {},
   "outputs": [],
   "source": []
  }
 ],
 "metadata": {
  "kernelspec": {
   "display_name": "Python 3 (ipykernel)",
   "language": "python",
   "name": "python3"
  },
  "language_info": {
   "codemirror_mode": {
    "name": "ipython",
    "version": 3
   },
   "file_extension": ".py",
   "mimetype": "text/x-python",
   "name": "python",
   "nbconvert_exporter": "python",
   "pygments_lexer": "ipython3",
   "version": "3.9.12"
  },
  "vscode": {
   "interpreter": {
    "hash": "695d4c96b26c8b1d2d488fdbd4be24a8551503c737fdd8d728f1c2c15e96bab5"
   }
  }
 },
 "nbformat": 4,
 "nbformat_minor": 5
}
